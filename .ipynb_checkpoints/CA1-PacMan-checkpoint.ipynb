{
 "cells": [
  {
   "cell_type": "markdown",
   "metadata": {},
   "source": [
    "# CA1 - PacMan"
   ]
  },
  {
   "cell_type": "markdown",
   "metadata": {},
   "source": [
    "In this project I am going to implement a version of Pacman without any ghosts and with two agents."
   ]
  },
  {
   "cell_type": "code",
   "execution_count": 1,
   "metadata": {},
   "outputs": [],
   "source": [
    "import collections\n",
    "import numpy as np\n",
    "import time\n",
    "from queue import PriorityQueue\n",
    "import pandas as pd \n",
    "import matplotlib.pyplot as plt\n",
    "%matplotlib inline"
   ]
  },
  {
   "cell_type": "markdown",
   "metadata": {},
   "source": [
    "First, I read the game's map."
   ]
  },
  {
   "cell_type": "code",
   "execution_count": 2,
   "metadata": {},
   "outputs": [
    {
     "name": "stdout",
     "output_type": "stream",
     "text": [
      "%%%%%%\n",
      "%    %\n",
      "%    %\n",
      "%   P%\n",
      "%% %%%\n",
      "%  23%\n",
      "%1 1 %\n",
      "%%% %%\n",
      "%   Q%\n",
      "%%%%%% \n"
     ]
    }
   ],
   "source": [
    "file = open(\"./test cases/test5\", \"r\") \n",
    "map_data = file.read()\n",
    "print(map_data)"
   ]
  },
  {
   "cell_type": "markdown",
   "metadata": {},
   "source": [
    "In this project, we have a map which consists of 2 agents which are shown with P and Q. There are foods in the map shown with 1, 2 and 3. 3 is edible for both P and Q. P can eat 1 and 2 is poison for it. Q can eat 2 and 1 is poison for it. "
   ]
  },
  {
   "cell_type": "markdown",
   "metadata": {},
   "source": [
    "### Model The Problem"
   ]
  },
  {
   "cell_type": "markdown",
   "metadata": {},
   "source": [
    "We need to find the steps which leads to a map with no food.\n",
    "\n",
    "We need to find the optimal way of doing this. We can model the problem and change it in order to make it a search problem. Then we can use search strategies to solve the problem."
   ]
  },
  {
   "cell_type": "markdown",
   "metadata": {},
   "source": [
    "To model the problem we need to have the components of a search problem which are the following parts:\n",
    "\n",
    "- Initial State\n",
    "\n",
    "- Actions\n",
    "\n",
    "- Transition model\n",
    "\n",
    "- Goal State\n",
    "\n",
    "- Path Cost"
   ]
  },
  {
   "cell_type": "markdown",
   "metadata": {},
   "source": [
    "In this problem we will have the followings as these components:\n",
    "\n",
    "- Initial State: The map structure as read from the file\n",
    "\n",
    "- Actions: Each agent can move UP, DOWN, RIGHT, and LEFT if its way is not blocked by walls, other agent or the poison for that agent\n",
    "\n",
    "- Transition Model: If an agent goes from one place to another, it will be removed from the previous place and added to the new one in the map. If food exists in the new place, the agent will eat it and the food will no longer appear on the map. After each movement the state will be the new map with the changed mentioned.\n",
    "\n",
    "- Goal State: The goal is to have a map free of food.\n",
    "\n",
    "- Path Cost: The number of movements in order to reach the solution will be the path cost. (The depth of the solution in the search tree)"
   ]
  },
  {
   "cell_type": "markdown",
   "metadata": {},
   "source": [
    "In order to keep the states and do the necessary actions on them, I have defined a class structure called Pacman. This class has the attributes below:\n",
    "\n",
    "- map_data: The string of map (same format with the one read from the input file.)\n",
    "\n",
    "- q_position and p_position: The positions of agents in the map are stored in the class. These positions are only found the first time an object from this class is instantiated. The next time the p_position and q_position is calculated based on the last state and the action. This way we do not search for them each time and we can save some time.\n",
    "\n",
    "- food: Food is the count of food left in the map. Just like agents' positions, this attribute is only calculated once and then calculated based on the previous state and action. (It only gets updated and not calculated from scratch)\n",
    "\n",
    "- eaten and all_food_pos: Eaten shows if a food was eaten in previous step. all_food_pos shows the position of all foods in the previous state. These are only used for A* algorithm to update the food positions. Otherwise food attribute will be sufficient. all_food_pos is only calculated the first time and when some food is eaten in the previous step. If food is eaten in previous state,  the positions for foods will be updated.\n",
    "\n",
    "This is actually the state in our problem and each node keeps an state inside it. The actions needed for the states are implemented as methods of the class."
   ]
  },
  {
   "cell_type": "code",
   "execution_count": 3,
   "metadata": {},
   "outputs": [],
   "source": [
    "class Pacman:\n",
    "    \n",
    "    def __init__(self, map_data, p_position=[], q_position=[], food=-1, eaten=False, all_food_pos=[]):\n",
    "        self.moves = [\"U\", \"R\", \"D\", \"L\"]\n",
    "        self.element_per_line = len(map_data.splitlines()[0]) + 1\n",
    "        self.all_food_pos = all_food_pos\n",
    "        self.eaten = eaten\n",
    "        self.map = map_data\n",
    "        self.all_food = food\n",
    "        if food == -1:\n",
    "            self.all_food = map_data.count(\"1\") + map_data.count(\"2\") + map_data.count(\"3\")\n",
    "        self.p_position, self.q_position = p_position, q_position\n",
    "        if len(p_position) == 0 or len(q_position) == 0:\n",
    "            self.p_position, self.q_position = self.get_agents_position()\n",
    "        \n",
    "    def get_position_in_map(self, pos):\n",
    "        return([int((pos - (pos % self.element_per_line))/self.element_per_line),\n",
    "               (pos % self.element_per_line)])\n",
    "    \n",
    "    def get_position_of_foods(self):\n",
    "        if (self.all_food_pos == [] and self.all_food != 0) or self.eaten == True:\n",
    "            self.eaten = False\n",
    "            self.all_food_pos = [i for i, letter in enumerate(self.map) if letter in [\"1\", \"2\", \"3\"]]\n",
    "            return self.all_food_pos\n",
    "        return self.all_food_pos\n",
    "        \n",
    "    def get_1_dimension_position(self, x, y):\n",
    "        return x * self.element_per_line + y\n",
    "        \n",
    "    def get_agents_position(self):\n",
    "        q_position = self.get_position_in_map(self.map.find(\"Q\"))\n",
    "        p_position = self.get_position_in_map(self.map.find(\"P\"))\n",
    "        return p_position, q_position  \n",
    "    \n",
    "    def get_poison(self, agent_name):\n",
    "        return \"1\" if agent_name == \"Q\" else \"2\"\n",
    "    \n",
    "    def get_other_agent(self, agent_name):\n",
    "        return \"P\" if agent_name == \"Q\" else \"Q\"\n",
    "    \n",
    "    def check_directions(self, agent_name):\n",
    "        poison = self.get_poison(agent_name)\n",
    "        other = self.get_other_agent(agent_name)\n",
    "        position = self.q_position if agent_name == \"Q\" else self.p_position\n",
    "        x, y = position[0], position[1]\n",
    "        up_right_down_left_x = [x-1, x, x+1, x]\n",
    "        up_right_down_left_y = [y, y+1, y, y-1]\n",
    "        return list(map(lambda x, y:not(self.map[self.get_1_dimension_position(x, y)] in ['%', poison, other]), up_right_down_left_x, up_right_down_left_y))\n",
    "        \n",
    "    def get_map_after_movements(self, direction, agent):\n",
    "        poison = self.get_poison(agent)\n",
    "        other = self.get_other_agent(agent)\n",
    "        state = self.map\n",
    "        pos = self.q_position if agent == \"Q\" else self.p_position\n",
    "        x, y = pos[0], pos[1]\n",
    "        new_pos = [x-1, y] if direction == \"U\" else [x, y+1] if direction == \"R\" else [x+1, y] if direction == \"D\" else [x, y-1]\n",
    "        pos_1d = self.get_1_dimension_position(new_pos[0], new_pos[1])\n",
    "        if self.map[pos_1d] in ['%', poison, other]:\n",
    "            return\n",
    "        new_q_position = [new_pos[0], new_pos[1]] if agent == \"Q\" else self.q_position\n",
    "        new_p_position = [new_pos[0], new_pos[1]] if agent == \"P\" else self.p_position\n",
    "        new_pos = self.get_1_dimension_position(new_pos[0], new_pos[1])\n",
    "        state = state.replace(agent, \" \")\n",
    "        new_all_food = self.all_food\n",
    "        eaten = False\n",
    "        if state[new_pos] in [\"1\", \"2\", \"3\"]:\n",
    "            new_all_food = self.all_food - 1\n",
    "            eaten = True\n",
    "        state = state[:new_pos] + agent + state[new_pos + 1:]\n",
    "        return state, new_p_position, new_q_position, new_all_food, eaten, self.all_food_pos\n",
    "    \n",
    "    def get_maps_for_all_possible_moves(self):\n",
    "        q_moves = self.check_directions(\"Q\")\n",
    "        p_moves = self.check_directions(\"P\")\n",
    "        q_maps = [self.get_map_after_movements(self.moves[i], \"Q\") for i in np.where(q_moves)[0].tolist()]\n",
    "        p_maps = [self.get_map_after_movements(self.moves[i], \"P\") for i in np.where(p_moves)[0].tolist()]\n",
    "        return q_maps + p_maps"
   ]
  },
  {
   "cell_type": "code",
   "execution_count": 4,
   "metadata": {},
   "outputs": [],
   "source": [
    "pacman_board = Pacman(map_data)"
   ]
  },
  {
   "cell_type": "markdown",
   "metadata": {},
   "source": [
    "Now we create a node class for each node of the search graph. This class has the map state and its parent.Level shows the depth of the current state of the node. Parent is set as default value of -1 now but can be given to the constructor of the node if needed. By having the parent node, we can trace the solution and view the steps which lead to the current state."
   ]
  },
  {
   "cell_type": "code",
   "execution_count": 5,
   "metadata": {},
   "outputs": [],
   "source": [
    "class Node:\n",
    "    \n",
    "    def __init__(self, state, level, parent=-1):\n",
    "        self.state = state\n",
    "        self.level = level\n",
    "        self.parent = parent\n",
    "        \n",
    "    def __gt__(self, other):\n",
    "        return self.heuristic > other.heuristic\n",
    "        \n",
    "    def set_heuristic(self, heuristic):\n",
    "        self.heuristic = heuristic\n",
    "      "
   ]
  },
  {
   "cell_type": "markdown",
   "metadata": {},
   "source": [
    "## Search Algorithms"
   ]
  },
  {
   "cell_type": "markdown",
   "metadata": {},
   "source": [
    "I will implement the search algorithms listed below in this project and explain their pros and cons later:\n",
    "\n",
    "- BFS (Breadth First Search)\n",
    "\n",
    "- IDS (Iterative Deepening Search)\n",
    "\n",
    "- A*"
   ]
  },
  {
   "cell_type": "markdown",
   "metadata": {},
   "source": [
    "### BFS"
   ]
  },
  {
   "cell_type": "markdown",
   "metadata": {},
   "source": [
    "BFS or Breadth First Search is a search algorithm which will give us the optimal solution.\n",
    "\n",
    "In BFS, we traverse the tree by expanding the nodes in the closest depth and going to the next depth after visiting all the nodes in the current level. \n",
    "\n",
    "As the nodes are explored based on their depth, it is guarantied that the solution (if found) is optimal. In other words, we go forward according to the depth so if solutions exist in different levels, it will definately find the one with lower depth first."
   ]
  },
  {
   "cell_type": "markdown",
   "metadata": {},
   "source": [
    "To implement BFS, I have chosen the initial state(read from input file) as the root and its level is considered 0.\n",
    "\n",
    "In each step, I pop a node from the frontier FIFO queue. Frontier consists of the nodes which are not yet expanded themselves (but their parent is expanded.) Frontier is a FIFO queue because in BFS we choose nodes in FIFO manner.\n",
    "\n",
    "I also have a set called explored. I have chosen the set data structure for it as we can lookup a value in set with time complexity of O(1). \n",
    "\n",
    "After expanding each node, I create the child nodes with a level(depth) of their parent plus one. I check each child node to see if they are the goal state ot not. If the state of a child node is goal, I return it. If it is not, we need to check if it is in frontier or explored. If it is not, we add it to the frontier set. As explored set in only there for this cause, I decided to also add the frontier states to the explored(as well as keeping a separate FIFO queue for it) in order to save time on checking the existance of new child node in these lists. (We will have a set containing both explored and frontier states to check if we need to add the node to frontier.) This is exactly same as checking them separately."
   ]
  },
  {
   "cell_type": "code",
   "execution_count": 6,
   "metadata": {},
   "outputs": [],
   "source": [
    "def bfs(initial_state):\n",
    "    nodes_count = 1\n",
    "    root = Node(initial_state, 0)\n",
    "    if root.state.all_food == 0:\n",
    "        return root\n",
    "    frontier = collections.deque([root])\n",
    "    explored = set([root.state.map])\n",
    "    while True:\n",
    "        if len(frontier) == 0:\n",
    "            return \"FAIL\", -1, -1\n",
    "        node = frontier.popleft()\n",
    "        states = node.state.get_maps_for_all_possible_moves()\n",
    "        for state, p_pos, q_pos, food, eaten, all_food_pos in states:\n",
    "            child = Node(Pacman(state, p_pos, q_pos, food), node.level + 1)\n",
    "            if not child.state.map in explored:\n",
    "                nodes_count += 1\n",
    "                if child.state.all_food == 0:\n",
    "                    return child, nodes_count, nodes_count\n",
    "                frontier.append(child)\n",
    "                explored.add(child.state.map)"
   ]
  },
  {
   "cell_type": "markdown",
   "metadata": {},
   "source": [
    "Now, I run the BFS algorithm and measure the time it takes to complete the search and also find the number of nodes visited in order to find the solution. In order to find the node count, I added a counter to BFS function."
   ]
  },
  {
   "cell_type": "code",
   "execution_count": 7,
   "metadata": {},
   "outputs": [
    {
     "name": "stdout",
     "output_type": "stream",
     "text": [
      "--- 0.010934114456176758 seconds ---\n",
      "Solution's Depth:  13\n",
      "Nodes Visited:  308\n",
      "Distinct Nodes Visited:  308\n"
     ]
    }
   ],
   "source": [
    "start_time = time.time()\n",
    "\n",
    "node, nodes_count, distint_nodes_count = bfs(pacman_board)\n",
    "\n",
    "print(\"--- %s seconds ---\" % (time.time() - start_time))\n",
    "\n",
    "print(\"Solution's Depth: \", node.level)\n",
    "print(\"Nodes Visited: \", nodes_count)\n",
    "print(\"Distinct Nodes Visited: \", distint_nodes_count)"
   ]
  },
  {
   "cell_type": "markdown",
   "metadata": {},
   "source": [
    "### IDS"
   ]
  },
  {
   "cell_type": "markdown",
   "metadata": {},
   "source": [
    "IDS or Iterative Deepening Search is a depth-limit version of DFS (Depth First Search). In IDS we start with level (depth) of zero and increase it in every iteration. In the depth of i, we run DFS with maximum depth of i. We repeatedly increase the depth limit until a solution is found."
   ]
  },
  {
   "cell_type": "markdown",
   "metadata": {},
   "source": [
    "In order to implement the DFS algorithm which is called by IDS, I modified the BFS algorithm explained above. The modifications are listed below:\n",
    "\n",
    "- The frontier list is implemented as stack (LIFO) instead of FIFO queue in BFS.\n",
    "\n",
    "- In order to check if I need to add the child node to the frontier, it is not enough to check the state and the depth must also be checked. This is because the fact that we might reach the same state in different depths and we want the one with smaller depth in order to reach the optimal solution.\n",
    "\n",
    "- A level limit is added to the algorithm. I only expand a node if its level is smaller that the level limit. Otherwise the child's depth will be larger that the limit. If node's level is not smaller than the limit level, I onlt pop it from the frontier stack and not expand it.\n",
    "\n",
    "- We check if we have reached the goal after expansion only."
   ]
  },
  {
   "cell_type": "code",
   "execution_count": 8,
   "metadata": {},
   "outputs": [],
   "source": [
    "def dfs_with_max_level(level, initial_state):\n",
    "    nodes_count = 1\n",
    "    nodes_distinct_count = 1\n",
    "    node = Node(initial_state, 0)\n",
    "    if node.state.all_food == 0:\n",
    "        return node\n",
    "    frontier = [node]\n",
    "    explored = {}\n",
    "    explored[node.state.map] = 0\n",
    "    explored_state = set([node.state.map])\n",
    "    first = True\n",
    "    while True:\n",
    "        if len(frontier) == 0:\n",
    "            return \"FAIL\", nodes_count, nodes_distinct_count\n",
    "        node = frontier.pop()\n",
    "        if node.state.all_food == 0:\n",
    "            return node, nodes_count, nodes_distinct_count\n",
    "        if node.level >= level:\n",
    "            continue\n",
    "        states = node.state.get_maps_for_all_possible_moves()\n",
    "        for state, p_pos, q_pos, food, eaten, all_food_pos in states:\n",
    "            child = Node(Pacman(state, p_pos, q_pos, food), node.level + 1)\n",
    "            if not child.state.map in explored or explored[child.state.map] > child.level:\n",
    "                nodes_count += 1\n",
    "                frontier.append(child)\n",
    "                explored[child.state.map] = child.level\n",
    "                if not child.state.map in explored_state:\n",
    "                    explored_state.add(child.state.map)\n",
    "                    nodes_distinct_count += 1"
   ]
  },
  {
   "cell_type": "markdown",
   "metadata": {},
   "source": [
    "IDS algorithm starts with level 0 and calls DFS function with that. It will increase the level limit until a solution is found. If DFS finds a solution in some level, IDS will return its solution."
   ]
  },
  {
   "cell_type": "code",
   "execution_count": 9,
   "metadata": {},
   "outputs": [],
   "source": [
    "def ids(initial_state):\n",
    "    level = 0\n",
    "    all_nodes_count = 0\n",
    "    while True:\n",
    "        result, nodes_count, nodes_distinct_count = dfs_with_max_level(level, initial_state)\n",
    "        all_nodes_count += nodes_count\n",
    "        if result != \"FAIL\":\n",
    "            break\n",
    "        level += 1\n",
    "    return result, all_nodes_count, nodes_distinct_count"
   ]
  },
  {
   "cell_type": "markdown",
   "metadata": {},
   "source": [
    "Now, I run the IDS algorithm and measure the time it takes to complete the search and also find the number of nodes visited in order to find the solution."
   ]
  },
  {
   "cell_type": "code",
   "execution_count": 10,
   "metadata": {},
   "outputs": [
    {
     "name": "stdout",
     "output_type": "stream",
     "text": [
      "--- 0.07356595993041992 seconds ---\n",
      "Solution's Depth:  13\n",
      "Nodes Visited:  2451\n",
      "Distinct Nodes Visited:  264\n"
     ]
    }
   ],
   "source": [
    "start_time = time.time()\n",
    "\n",
    "node, all_nodes_count, nodes_count = ids(pacman_board)\n",
    "\n",
    "print(\"--- %s seconds ---\" % (time.time() - start_time))\n",
    "\n",
    "print(\"Solution's Depth: \", node.level)\n",
    "print(\"Nodes Visited: \", all_nodes_count)\n",
    "print(\"Distinct Nodes Visited: \", nodes_count)"
   ]
  },
  {
   "cell_type": "markdown",
   "metadata": {},
   "source": [
    "### A*"
   ]
  },
  {
   "cell_type": "markdown",
   "metadata": {},
   "source": [
    "A* is an informed search algorithm. In A* we use a heuristic function as well as trying not to expand the paths which have already cost us a lot. \n",
    "\n",
    "Heuristic function h(n) estimates the cost of reaching goal from node n.\n",
    "\n",
    "A* will give us the optimal solution if:\n",
    "\n",
    "- The heuristic function is admissible - for tree search\n",
    "\n",
    "- The heuristic function is consistent - for graph search\n",
    "\n",
    "A* chooses the node with minimum value of f(n) = g(n) + h(n) in each step to expand. g(n) is the actual cost so far to reach node n and h(n) is the estmated cost to goal from node n."
   ]
  },
  {
   "cell_type": "markdown",
   "metadata": {},
   "source": [
    "#### Heuristic Function"
   ]
  },
  {
   "cell_type": "markdown",
   "metadata": {},
   "source": [
    "For heuristic function, for each food in the map, I calculated its manhattan distance from each agent. Then I got the minimum of its distance from P and Q. This shows the minimum steps (depth) needed for that fruit to be eaten by either P and Q. In reality, it is probably much more than that as there may be obstacles in the way or the agents may choose to go in opposite directions, etc. This way I calculated the minimum steps required for each fruit to be eaten. Then I found the maximum of these values. This value is the minimum steps needed for the fruit which is furthest from both agents to be eaten. In the goal state, this fruit must be eaten for sure and the minimum steps needed for it to be eaten is the value explained above. \n",
    "\n",
    "According to the explanaitions above, this value is admissible because it is not more than the actual value to the goal. Even when only one food exists in the map, this value will be admissible as explained above.\n",
    "\n",
    "This heuristic function is also consistent because for each h(a) and h(b) the actual cost from a to b will always be greater or equal to h(a) - h(b) as the actual cost from a to b if no obstacles exist is the manhattan distance between a and b (and if there are obstacles it will be more). If there are no obstacles and b is in the way of a to goal, the actual distance from a to b will be h(a) - h(b) but as explained in the more realistic cases above, this value is likely to be much larger."
   ]
  },
  {
   "cell_type": "code",
   "execution_count": 11,
   "metadata": {},
   "outputs": [],
   "source": [
    "def get_heuristic(state):\n",
    "    if state.all_food == 0:\n",
    "        return 0\n",
    "    all_food_pos = state.get_position_of_foods()\n",
    "    max_dist = 0\n",
    "    for food in all_food_pos:\n",
    "        food_pos = state.get_position_in_map(food)\n",
    "        x, y = food_pos[0], food_pos[1]\n",
    "        dist_from_p = abs(state.p_position[0] - x) + abs(state.p_position[1] - y)\n",
    "        dist_from_q = abs(state.q_position[0] - x) + abs(state.q_position[1] - y)\n",
    "        max_from_agent = min(dist_from_p, dist_from_q)\n",
    "        if max_dist < max_from_agent:\n",
    "            max_dist = max_from_agent\n",
    "    return max_dist"
   ]
  },
  {
   "cell_type": "markdown",
   "metadata": {},
   "source": [
    "In order to implement A*, we modify the BFS algorithm. The modifications are listed below:\n",
    "\n",
    "- Frontier is implemented as a PriorityQueue. PriorityQueue is actually a heap which keeps the values inside it based on their priority. This way, when we want to pop a node from frontier, the node with smallest value for f(n) will be popped. In frontier, I keep the node objects and in order to handle the comparison for adding/getting a value from heap, I overrided the __gt__ (greater) implementation of node class.\n",
    "\n",
    "- f(n) is computed for each node when created and added to it as an attribute.\n",
    "\n",
    "- We check if a node is goal after expansion of that node and not when it is created.\n",
    "\n",
    "- If we reach a state with lower depth again, we replace the previous one with the one with lower depth."
   ]
  },
  {
   "cell_type": "code",
   "execution_count": 12,
   "metadata": {},
   "outputs": [],
   "source": [
    "def a_star(initial_state):\n",
    "    dup_node_count = 0\n",
    "    distinct_node_count = 1\n",
    "    root = Node(initial_state, 0)\n",
    "    if root.state.all_food == 0:\n",
    "        return root, -1, distinct_node_count\n",
    "    frontier = PriorityQueue()\n",
    "    priority_num = get_heuristic(root.state) + root.level\n",
    "    root.set_heuristic(priority_num)\n",
    "    frontier.put(root)\n",
    "    explored = set()\n",
    "    frontier_state = {}\n",
    "    frontier_state[root.state.map] = root.level\n",
    "    while True:\n",
    "        if frontier.empty():\n",
    "            return \"FAIL\", -1, distinct_node_count\n",
    "        node = (frontier.get())\n",
    "        if node.state.all_food == 0:\n",
    "            return node, distinct_node_count + dup_node_count, distinct_node_count\n",
    "        states = node.state.get_maps_for_all_possible_moves()\n",
    "        for state, p_pos, q_pos, food, eaten, all_food_pos in states:\n",
    "            child = Node(Pacman(state, p_pos, q_pos, food, eaten, all_food_pos), node.level + 1)\n",
    "            priority_num = get_heuristic(child.state) + child.level\n",
    "            child.set_heuristic(priority_num)\n",
    "            if not child.state.map in explored:\n",
    "                distinct_node_count += 1\n",
    "                frontier.put(child)\n",
    "                explored.add(child.state.map)\n",
    "            elif child.state.map in frontier_state and frontier_state[child.state.map] > child.level:\n",
    "                dup_node_count += 1\n",
    "                frontier_state[child.state.map] = child.level\n",
    "                frontier.put(child)"
   ]
  },
  {
   "cell_type": "markdown",
   "metadata": {},
   "source": [
    "Now, I run the A* algorithm and measure the time it takes to complete the search and also find the number of nodes visited in order to find the solution."
   ]
  },
  {
   "cell_type": "code",
   "execution_count": 13,
   "metadata": {},
   "outputs": [
    {
     "name": "stdout",
     "output_type": "stream",
     "text": [
      "--- 0.016764163970947266 seconds ---\n",
      "Solution's Depth:  13\n",
      "Nodes Visited:  271\n",
      "Distinct Nodes Visited:  271\n"
     ]
    }
   ],
   "source": [
    "start_time = time.time()\n",
    "\n",
    "node, all_nodes_count, distinct_node_count = a_star(pacman_board)\n",
    "\n",
    "print(\"--- %s seconds ---\" % (time.time() - start_time))\n",
    "\n",
    "print(\"Solution's Depth: \", node.level)\n",
    "print(\"Nodes Visited: \", all_nodes_count)\n",
    "print(\"Distinct Nodes Visited: \", distinct_node_count)"
   ]
  },
  {
   "cell_type": "markdown",
   "metadata": {},
   "source": [
    "As it is shown above, the states visited are less than BFS but the execution time is more. This is becuase of the calculations done for the heuristic of each node which take some more time for each node."
   ]
  },
  {
   "cell_type": "markdown",
   "metadata": {},
   "source": [
    "## Comparison of the Search Algorithms"
   ]
  },
  {
   "cell_type": "markdown",
   "metadata": {},
   "source": [
    "### BFS:"
   ]
  },
  {
   "cell_type": "markdown",
   "metadata": {},
   "source": [
    "- Complete? Yes (If branching factor is finite.)\n",
    "\n",
    "- Optimal? Yes (If cost of the edges are equal.)\n",
    "\n",
    "- Time? O($b^d$) where b is the branching factor and d is the solution's depth.\n",
    "\n",
    "- Space? O($b^d$)"
   ]
  },
  {
   "cell_type": "markdown",
   "metadata": {},
   "source": [
    "### IDS:"
   ]
  },
  {
   "cell_type": "markdown",
   "metadata": {},
   "source": [
    "- Complete? Yes (If branching factor is finite.)\n",
    "\n",
    "- Optimal? Yes (If cost of the edges are equal.)\n",
    "\n",
    "- Time? (d+1)$b^0$ + (d)$b^1$ + (d-1)$b^2$ + ... + $b^d$ = O($b^d$)\n",
    "\n",
    "- Space? O(bd)"
   ]
  },
  {
   "cell_type": "markdown",
   "metadata": {},
   "source": [
    "### A*:"
   ]
  },
  {
   "cell_type": "markdown",
   "metadata": {},
   "source": [
    "- Complete? Yes \n",
    "\n",
    "- Optimal? Yes \n",
    "\n",
    "- Time? Number of nodes for which f(n) ≤ C* where C* is the optimal path cost (exponential)\n",
    "    It actually depends on the heuristic and it reduces when the heuristic gets closer to the actual cost. \n",
    "\n",
    "- Space? Space is also exponential and it depends on the heuristic and how close it is to the actual cost."
   ]
  },
  {
   "cell_type": "markdown",
   "metadata": {},
   "source": [
    "## Algorithms' Exectutions with Details"
   ]
  },
  {
   "cell_type": "code",
   "execution_count": 14,
   "metadata": {},
   "outputs": [],
   "source": [
    "def get_mean_exec_and_state_count(count, algorithm, test):\n",
    "    file = open(\"./test cases/\" + test, \"r\") \n",
    "    map_data = file.read()\n",
    "    board = Pacman(map_data)\n",
    "    sum_time = 0\n",
    "    for i in range(count):        \n",
    "        start_time = time.time()\n",
    "\n",
    "        node, all_nodes_count, distinct_count = algorithm(board)\n",
    "\n",
    "        sum_time += (time.time() - start_time)\n",
    "    return (sum_time / count), all_nodes_count, distinct_count, node.level"
   ]
  },
  {
   "cell_type": "markdown",
   "metadata": {},
   "source": [
    "Below, there is a table which shows the details of each algorithm on each test case."
   ]
  },
  {
   "cell_type": "code",
   "execution_count": 15,
   "metadata": {},
   "outputs": [],
   "source": [
    "time_bfs_1, all_node_bfs_1, distinct_bfs_1, level_bfs_1 = get_mean_exec_and_state_count(3, bfs, \"test1\")\n",
    "time_bfs_2, all_node_bfs_2, distinct_bfs_2, level_bfs_2 = get_mean_exec_and_state_count(3, bfs, \"test2\")\n",
    "time_bfs_3, all_node_bfs_3, distinct_bfs_3, level_bfs_3 = get_mean_exec_and_state_count(3, bfs, \"test3\")\n",
    "time_bfs_4, all_node_bfs_4, distinct_bfs_4, level_bfs_4 = get_mean_exec_and_state_count(3, bfs, \"test4\")\n",
    "time_bfs_5, all_node_bfs_5, distinct_bfs_5, level_bfs_5 = get_mean_exec_and_state_count(3, bfs, \"test5\")\n",
    "time_ids_1, all_node_ids_1, distinct_ids_1, level_ids_1 = get_mean_exec_and_state_count(3, ids, \"test1\")\n",
    "time_ids_2, all_node_ids_2, distinct_ids_2, level_ids_2 = get_mean_exec_and_state_count(3, ids, \"test2\")\n",
    "time_ids_3, all_node_ids_3, distinct_ids_3, level_ids_3 = get_mean_exec_and_state_count(3, ids, \"test3\")\n",
    "time_ids_4, all_node_ids_4, distinct_ids_4, level_ids_4 = get_mean_exec_and_state_count(3, ids, \"test4\")\n",
    "time_ids_5, all_node_ids_5, distinct_ids_5, level_ids_5 = get_mean_exec_and_state_count(3, ids, \"test5\")\n",
    "time_a_star_1, all_node_a_star_1, distinct_a_star_1, level_a_star_1 = get_mean_exec_and_state_count(3, a_star, \"test1\")\n",
    "time_a_star_2, all_node_a_star_2, distinct_a_star_2, level_a_star_2 = get_mean_exec_and_state_count(3, a_star, \"test2\")\n",
    "time_a_star_3, all_node_a_star_3, distinct_a_star_3, level_a_star_3 = get_mean_exec_and_state_count(3, a_star, \"test3\")\n",
    "time_a_star_4, all_node_a_star_4, distinct_a_star_4, level_a_star_4 = get_mean_exec_and_state_count(3, a_star, \"test4\")\n",
    "time_a_star_5, all_node_a_star_5, distinct_a_star_5, level_a_star_5 = get_mean_exec_and_state_count(3, a_star, \"test5\")"
   ]
  },
  {
   "cell_type": "code",
   "execution_count": 16,
   "metadata": {
    "scrolled": true
   },
   "outputs": [
    {
     "data": {
      "text/html": [
       "<div>\n",
       "<style scoped>\n",
       "    .dataframe tbody tr th:only-of-type {\n",
       "        vertical-align: middle;\n",
       "    }\n",
       "\n",
       "    .dataframe tbody tr th {\n",
       "        vertical-align: top;\n",
       "    }\n",
       "\n",
       "    .dataframe thead th {\n",
       "        text-align: right;\n",
       "    }\n",
       "</style>\n",
       "<table border=\"1\" class=\"dataframe\">\n",
       "  <thead>\n",
       "    <tr style=\"text-align: right;\">\n",
       "      <th></th>\n",
       "      <th>Solution Depth</th>\n",
       "      <th>Distinct States Viewed</th>\n",
       "      <th>All States Viewed</th>\n",
       "      <th>Exec. Time (sec)</th>\n",
       "    </tr>\n",
       "  </thead>\n",
       "  <tbody>\n",
       "    <tr>\n",
       "      <th>BFS - Test1</th>\n",
       "      <td>33</td>\n",
       "      <td>148557</td>\n",
       "      <td>148557</td>\n",
       "      <td>6.155249</td>\n",
       "    </tr>\n",
       "    <tr>\n",
       "      <th>BFS - Test2</th>\n",
       "      <td>17</td>\n",
       "      <td>3706</td>\n",
       "      <td>3706</td>\n",
       "      <td>0.143780</td>\n",
       "    </tr>\n",
       "    <tr>\n",
       "      <th>BFS - Test3</th>\n",
       "      <td>20</td>\n",
       "      <td>2672</td>\n",
       "      <td>2672</td>\n",
       "      <td>0.098720</td>\n",
       "    </tr>\n",
       "    <tr>\n",
       "      <th>BFS - Test4</th>\n",
       "      <td>17</td>\n",
       "      <td>10744</td>\n",
       "      <td>10744</td>\n",
       "      <td>0.443167</td>\n",
       "    </tr>\n",
       "    <tr>\n",
       "      <th>BFS - Test5</th>\n",
       "      <td>13</td>\n",
       "      <td>308</td>\n",
       "      <td>308</td>\n",
       "      <td>0.007908</td>\n",
       "    </tr>\n",
       "    <tr>\n",
       "      <th>IDS - Test1</th>\n",
       "      <td>33</td>\n",
       "      <td>142137</td>\n",
       "      <td>4802015</td>\n",
       "      <td>174.376395</td>\n",
       "    </tr>\n",
       "    <tr>\n",
       "      <th>IDS - Test2</th>\n",
       "      <td>17</td>\n",
       "      <td>3370</td>\n",
       "      <td>37162</td>\n",
       "      <td>1.144594</td>\n",
       "    </tr>\n",
       "    <tr>\n",
       "      <th>IDS - Test3</th>\n",
       "      <td>20</td>\n",
       "      <td>2598</td>\n",
       "      <td>45496</td>\n",
       "      <td>1.352961</td>\n",
       "    </tr>\n",
       "    <tr>\n",
       "      <th>IDS - Test4</th>\n",
       "      <td>17</td>\n",
       "      <td>10938</td>\n",
       "      <td>98737</td>\n",
       "      <td>4.004460</td>\n",
       "    </tr>\n",
       "    <tr>\n",
       "      <th>IDS - Test5</th>\n",
       "      <td>13</td>\n",
       "      <td>264</td>\n",
       "      <td>2451</td>\n",
       "      <td>0.073286</td>\n",
       "    </tr>\n",
       "    <tr>\n",
       "      <th>A* - Test1</th>\n",
       "      <td>33</td>\n",
       "      <td>84842</td>\n",
       "      <td>84842</td>\n",
       "      <td>7.376521</td>\n",
       "    </tr>\n",
       "    <tr>\n",
       "      <th>A* - Test2</th>\n",
       "      <td>17</td>\n",
       "      <td>2025</td>\n",
       "      <td>2025</td>\n",
       "      <td>0.133705</td>\n",
       "    </tr>\n",
       "    <tr>\n",
       "      <th>A* - Test3</th>\n",
       "      <td>20</td>\n",
       "      <td>968</td>\n",
       "      <td>968</td>\n",
       "      <td>0.061281</td>\n",
       "    </tr>\n",
       "    <tr>\n",
       "      <th>A* - Test4</th>\n",
       "      <td>17</td>\n",
       "      <td>1585</td>\n",
       "      <td>1585</td>\n",
       "      <td>0.090620</td>\n",
       "    </tr>\n",
       "    <tr>\n",
       "      <th>A* - Test5</th>\n",
       "      <td>13</td>\n",
       "      <td>271</td>\n",
       "      <td>271</td>\n",
       "      <td>0.013446</td>\n",
       "    </tr>\n",
       "  </tbody>\n",
       "</table>\n",
       "</div>"
      ],
      "text/plain": [
       "             Solution Depth  Distinct States Viewed  All States Viewed  \\\n",
       "BFS - Test1              33                  148557             148557   \n",
       "BFS - Test2              17                    3706               3706   \n",
       "BFS - Test3              20                    2672               2672   \n",
       "BFS - Test4              17                   10744              10744   \n",
       "BFS - Test5              13                     308                308   \n",
       "IDS - Test1              33                  142137            4802015   \n",
       "IDS - Test2              17                    3370              37162   \n",
       "IDS - Test3              20                    2598              45496   \n",
       "IDS - Test4              17                   10938              98737   \n",
       "IDS - Test5              13                     264               2451   \n",
       "A* - Test1               33                   84842              84842   \n",
       "A* - Test2               17                    2025               2025   \n",
       "A* - Test3               20                     968                968   \n",
       "A* - Test4               17                    1585               1585   \n",
       "A* - Test5               13                     271                271   \n",
       "\n",
       "             Exec. Time (sec)  \n",
       "BFS - Test1          6.155249  \n",
       "BFS - Test2          0.143780  \n",
       "BFS - Test3          0.098720  \n",
       "BFS - Test4          0.443167  \n",
       "BFS - Test5          0.007908  \n",
       "IDS - Test1        174.376395  \n",
       "IDS - Test2          1.144594  \n",
       "IDS - Test3          1.352961  \n",
       "IDS - Test4          4.004460  \n",
       "IDS - Test5          0.073286  \n",
       "A* - Test1           7.376521  \n",
       "A* - Test2           0.133705  \n",
       "A* - Test3           0.061281  \n",
       "A* - Test4           0.090620  \n",
       "A* - Test5           0.013446  "
      ]
     },
     "execution_count": 16,
     "metadata": {},
     "output_type": "execute_result"
    }
   ],
   "source": [
    "data = {'Solution Depth':[level_bfs_1, level_bfs_2, level_bfs_3, level_bfs_4, level_bfs_5, \n",
    "                          level_ids_1, level_ids_2, level_ids_3, level_ids_4, level_ids_5,\n",
    "                          level_a_star_1, level_a_star_2, level_a_star_3, level_a_star_4, level_a_star_5], \n",
    "        'Distinct States Viewed':[distinct_bfs_1, distinct_bfs_2, distinct_bfs_3, distinct_bfs_4, distinct_bfs_5,\n",
    "                                 distinct_ids_1, distinct_ids_2, distinct_ids_3, distinct_ids_4, distinct_ids_5, \n",
    "                                 distinct_a_star_1, distinct_a_star_2, distinct_a_star_3, distinct_a_star_4, distinct_a_star_5],\n",
    "        'All States Viewed': [all_node_bfs_1, all_node_bfs_2, all_node_bfs_3, all_node_bfs_4, all_node_bfs_5,\n",
    "                              all_node_ids_1, all_node_ids_2, all_node_ids_3, all_node_ids_4, all_node_ids_5,\n",
    "                              all_node_a_star_1, all_node_a_star_2, all_node_a_star_3, all_node_a_star_4, all_node_a_star_5],\n",
    "        'Exec. Time (sec)': [time_bfs_1, time_bfs_2, time_bfs_3, time_bfs_4, time_bfs_5,\n",
    "                              time_ids_1, time_ids_2, time_ids_3, time_ids_4, time_ids_5,\n",
    "                              time_a_star_1, time_a_star_2, time_a_star_3, time_a_star_4, time_a_star_5]} \n",
    "  \n",
    "df = pd.DataFrame(data, index =['BFS - Test1', 'BFS - Test2', 'BFS - Test3', 'BFS - Test4', 'BFS - Test5', 'IDS - Test1', 'IDS - Test2', 'IDS - Test3', 'IDS - Test4', 'IDS - Test5', 'A* - Test1', 'A* - Test2', 'A* - Test3', 'A* - Test4', 'A* - Test5'])  \n",
    "  \n",
    "df"
   ]
  },
  {
   "cell_type": "markdown",
   "metadata": {},
   "source": [
    "## Execution Time and Solution Depth Plots"
   ]
  },
  {
   "cell_type": "code",
   "execution_count": 17,
   "metadata": {},
   "outputs": [],
   "source": [
    "plt.rcParams[\"figure.figsize\"][0] = 16\n",
    "plt.rcParams[\"figure.figsize\"][1] = 16"
   ]
  },
  {
   "cell_type": "code",
   "execution_count": 18,
   "metadata": {
    "scrolled": true
   },
   "outputs": [
    {
     "data": {
      "image/png": "[encoded data removed]",
      "text/plain": [
       "<Figure size 1152x1152 with 3 Axes>"
      ]
     },
     "metadata": {
      "needs_background": "light"
     },
     "output_type": "display_data"
    }
   ],
   "source": [
    "for i in range(3):\n",
    "    data_for_alg = (df[i*5:i*5+5]).sort_values(by='Solution Depth', axis=0, ascending=True, inplace=False, kind='quicksort', na_position='last')\n",
    "    plt.subplot(3, 3, i+1, xlabel='Depth', ylabel='Exec. Time')\n",
    "    plt.plot(data_for_alg['Solution Depth'], data_for_alg['Exec. Time (sec)'], 'rebeccapurple')\n",
    "    plt.scatter(data_for_alg['Solution Depth'], data_for_alg['Exec. Time (sec)'])\n",
    "    title = 'BFS' if i == 0 else 'IDS' if i == 1 else 'A*'\n",
    "    plt.title(title)"
   ]
  }
 ],
 "metadata": {
  "kernelspec": {
   "display_name": "Python 3",
   "language": "python",
   "name": "python3"
  },
  "language_info": {
   "codemirror_mode": {
    "name": "ipython",
    "version": 3
   },
   "file_extension": ".py",
   "mimetype": "text/x-python",
   "name": "python",
   "nbconvert_exporter": "python",
   "pygments_lexer": "ipython3",
   "version": "3.7.3"
  }
 },
 "nbformat": 4,
 "nbformat_minor": 2
}
